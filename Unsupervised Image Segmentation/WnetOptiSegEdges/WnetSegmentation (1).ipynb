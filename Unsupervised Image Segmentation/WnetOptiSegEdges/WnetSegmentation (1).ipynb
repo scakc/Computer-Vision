{
 "cells": [
  {
   "cell_type": "code",
   "execution_count": 13,
   "metadata": {
    "colab": {
     "base_uri": "https://localhost:8080/",
     "height": 118
    },
    "colab_type": "code",
    "id": "gbhHMBXYkrTw",
    "outputId": "7ac0fc7c-f95f-4feb-f541-3e192139515d"
   },
   "outputs": [
    {
     "name": "stdout",
     "output_type": "stream",
     "text": [
      "Go to this URL in a browser: https://accounts.google.com/o/oauth2/auth?client_id=947318989803-6bn6qk8qdgf4n4g3pfee6491hc0brc4i.apps.googleusercontent.com&redirect_uri=urn%3Aietf%3Awg%3Aoauth%3A2.0%3Aoob&scope=email%20https%3A%2F%2Fwww.googleapis.com%2Fauth%2Fdocs.test%20https%3A%2F%2Fwww.googleapis.com%2Fauth%2Fdrive%20https%3A%2F%2Fwww.googleapis.com%2Fauth%2Fdrive.photos.readonly%20https%3A%2F%2Fwww.googleapis.com%2Fauth%2Fpeopleapi.readonly&response_type=code\n",
      "\n",
      "Enter your authorization code:\n",
      "··········\n",
      "Mounted at /content/drive/\n"
     ]
    }
   ],
   "source": [
    "from google.colab import drive\n",
    "drive.mount('/content/drive/')"
   ]
  },
  {
   "cell_type": "code",
   "execution_count": null,
   "metadata": {
    "colab": {},
    "colab_type": "code",
    "id": "99yGMNt_vtqj"
   },
   "outputs": [],
   "source": [
    "import tarfile\n",
    "tar = tarfile.open(\"drive/My Drive/Datasets/Dataset.tar.gz\")\n",
    "tar.extractall()\n",
    "tar.close()"
   ]
  },
  {
   "cell_type": "code",
   "execution_count": 1,
   "metadata": {
    "colab": {},
    "colab_type": "code",
    "id": "pWpElbM1k5fA"
   },
   "outputs": [],
   "source": [
    "import torch\n",
    "import torch.nn as nn\n",
    "import torch.nn.functional as F\n",
    "import numpy as np\n",
    "\n",
    "from PIL import Image\n",
    "import os\n",
    "\n",
    "import torchvision.transforms as trf\n",
    "\n",
    "from IPython.display import clear_output as clr\n",
    "import matplotlib.pyplot as plt\n",
    "\n",
    "from skimage import data, segmentation, color\n",
    "from skimage.future import graph\n",
    "from matplotlib import pyplot as plt\n",
    "import cv2\n",
    "\n",
    "import cv2\n",
    "import numpy as np\n",
    "from skimage import data, segmentation, color\n",
    "from skimage.future import graph\n",
    "from matplotlib import pyplot as plt\n",
    "import torch\n",
    "import torch.nn as nn\n",
    "import torch.nn.functional as F\n",
    "import torch.optim as optim\n",
    "from torchvision import datasets, transforms\n",
    "from torch.autograd import Variable\n",
    "import sys\n",
    "import torch.nn.init\n",
    "import os\n",
    "from IPython.display import clear_output as clr"
   ]
  },
  {
   "cell_type": "code",
   "execution_count": 2,
   "metadata": {
    "colab": {},
    "colab_type": "code",
    "id": "Xwfgdfn2mB8J"
   },
   "outputs": [],
   "source": [
    "class Block(nn.Module):\n",
    "    def __init__(self, in_filters, out_filters, seperable=True):\n",
    "        super(Block, self).__init__()\n",
    "        \n",
    "        if seperable:\n",
    "            \n",
    "            self.spatial1=nn.Conv2d(in_filters, in_filters, kernel_size=3, groups=in_filters, padding=1)\n",
    "            self.depth1=nn.Conv2d(in_filters, out_filters, kernel_size=1)\n",
    "            \n",
    "            self.conv1=lambda x: self.depth1(self.spatial1(x))\n",
    "            \n",
    "            self.spatial2=nn.Conv2d(out_filters, out_filters, kernel_size=3, padding=1, groups=out_filters)\n",
    "            self.depth2=nn.Conv2d(out_filters, out_filters, kernel_size=1)\n",
    "            \n",
    "            self.conv2=lambda x: self.depth2(self.spatial2(x))\n",
    "            \n",
    "        else:\n",
    "            \n",
    "            self.conv1=nn.Conv2d(in_filters, out_filters, kernel_size=3, padding=1)\n",
    "            self.conv2=nn.Conv2d(out_filters, out_filters, kernel_size=3, padding=1)\n",
    "        \n",
    "        self.batchnorm1=nn.BatchNorm2d(out_filters)\n",
    "        self.batchnorm2=nn.BatchNorm2d(out_filters)\n",
    "\n",
    "    def forward(self, x):\n",
    "        \n",
    "        x=self.batchnorm1(self.conv1(x)).clamp(0)\n",
    "        \n",
    "        x=self.batchnorm2(self.conv2(x)).clamp(0)\n",
    "        \n",
    "        return x"
   ]
  },
  {
   "cell_type": "code",
   "execution_count": 3,
   "metadata": {
    "colab": {},
    "colab_type": "code",
    "id": "orzu6R4vmLc2"
   },
   "outputs": [],
   "source": [
    "class UEnc(nn.Module):\n",
    "    def __init__(self, squeeze, ch_mul=64, in_chans=3):\n",
    "        super(UEnc, self).__init__()\n",
    "        \n",
    "        self.enc1=Block(in_chans, ch_mul, seperable=False)\n",
    "        self.enc2=Block(ch_mul, 2*ch_mul)\n",
    "        self.enc3=Block(2*ch_mul, 4*ch_mul)\n",
    "        self.enc4=Block(4*ch_mul, 8*ch_mul)\n",
    " \n",
    "        self.middle=Block(8*ch_mul, 16*ch_mul)\n",
    "  \n",
    "  \n",
    "        self.up1=nn.ConvTranspose2d(16*ch_mul, 8*ch_mul, kernel_size=3, stride=2, padding=1, output_padding=1)\n",
    "        self.dec1=Block(16*ch_mul, 8*ch_mul)\n",
    "        self.up2=nn.ConvTranspose2d(8*ch_mul, 4*ch_mul, kernel_size=3, stride=2, padding=1, output_padding=1)\n",
    "        self.dec2=Block(8*ch_mul, 4*ch_mul)\n",
    "        self.up3=nn.ConvTranspose2d(4*ch_mul, 2*ch_mul, kernel_size=3, stride=2, padding=1, output_padding=1)\n",
    "        self.dec3=Block(4*ch_mul, 2*ch_mul)\n",
    "        self.up4=nn.ConvTranspose2d(2*ch_mul, ch_mul, kernel_size=3, stride=2, padding=1, output_padding=1)\n",
    "        self.dec4=Block(2*ch_mul, ch_mul, seperable=False)\n",
    "        \n",
    "        self.final=nn.Conv2d(ch_mul, squeeze, kernel_size=(1, 1))\n",
    "        \n",
    "    def forward(self, x):\n",
    "        \n",
    "        enc1=self.enc1(x)\n",
    "        \n",
    "        enc2=self.enc2(F.max_pool2d(enc1, (2, 2)))\n",
    "        \n",
    "        enc3=self.enc3(F.max_pool2d(enc2, (2,2)))\n",
    "        \n",
    "        enc4=self.enc4(F.max_pool2d(enc3, (2,2)))\n",
    "        \n",
    "        \n",
    "        middle=self.middle(F.max_pool2d(enc4, (2,2)))\n",
    "        \n",
    "        \n",
    "        up1=torch.cat([enc4, self.up1(middle)], 1)\n",
    "        dec1=self.dec1(up1)\n",
    "        \n",
    "        up2=torch.cat([enc3, self.up2(dec1)], 1)\n",
    "        dec2=self.dec2(up2)\n",
    "        \n",
    "        up3=torch.cat([enc2, self.up3(dec2)], 1)\n",
    "        dec3=self.dec3(up3)\n",
    "        \n",
    "        up4=torch.cat([enc1, self.up4(dec3)], 1)\n",
    "        dec4=self.dec4(up4)\n",
    "        \n",
    "        \n",
    "        final=self.final(dec4)\n",
    "        \n",
    "        return final"
   ]
  },
  {
   "cell_type": "code",
   "execution_count": 4,
   "metadata": {
    "colab": {},
    "colab_type": "code",
    "id": "evkvFDKhq_xP"
   },
   "outputs": [],
   "source": [
    "class Classify(nn.Module):\n",
    "   def __init__(self, num_classes=64, in_chans=3):\n",
    "        super(Classify, self).__init__()\n",
    "        \n",
    "#         self.classify1 = nn.Conv2d(in_chans, 256, kernel_size=(1, 1))\n",
    "#         self.act = nn.LeakyReLU()\n",
    "#         self.classify2 = nn.Conv2d(256, num_classes, kernel_size=(1, 1))\n",
    "        self.classify2 = nn.Conv2d(in_chans, num_classes, kernel_size=(1, 1))\n",
    "\n",
    "        \n",
    "   def forward(self, x):\n",
    "\n",
    "#         return self.classify2(self.act(self.classify1(x)))\n",
    "        return x    "
   ]
  },
  {
   "cell_type": "code",
   "execution_count": 5,
   "metadata": {
    "colab": {},
    "colab_type": "code",
    "id": "SlYIJSUhmQgB"
   },
   "outputs": [],
   "source": [
    "class UDec(nn.Module):\n",
    "    def __init__(self, squeeze, ch_mul=64, in_chans=3):\n",
    "        super(UDec, self).__init__()\n",
    "        \n",
    "        self.enc1=Block(squeeze, ch_mul, seperable=False)\n",
    "        self.enc2=Block(ch_mul, 2*ch_mul)\n",
    "        self.enc3=Block(2*ch_mul, 4*ch_mul)\n",
    "        self.enc4=Block(4*ch_mul, 8*ch_mul)\n",
    "        \n",
    "        self.middle=Block(8*ch_mul, 16*ch_mul)\n",
    "        \n",
    "        self.up1=nn.ConvTranspose2d(16*ch_mul, 8*ch_mul, kernel_size=3, stride=2, padding=1, output_padding=1)\n",
    "        self.dec1=Block(16*ch_mul, 8*ch_mul)\n",
    "        self.up2=nn.ConvTranspose2d(8*ch_mul, 4*ch_mul, kernel_size=3, stride=2, padding=1, output_padding=1)\n",
    "        self.dec2=Block(8*ch_mul, 4*ch_mul)\n",
    "        self.up3=nn.ConvTranspose2d(4*ch_mul, 2*ch_mul, kernel_size=3, stride=2, padding=1, output_padding=1)\n",
    "        self.dec3=Block(4*ch_mul, 2*ch_mul)\n",
    "        self.up4=nn.ConvTranspose2d(2*ch_mul, ch_mul, kernel_size=3, stride=2, padding=1, output_padding=1)\n",
    "        self.dec4=Block(2*ch_mul, ch_mul, seperable=False)\n",
    "        \n",
    "        self.final=nn.Conv2d(ch_mul, 1, kernel_size=(1, 1))\n",
    "        \n",
    "    def forward(self, x):\n",
    "        \n",
    "        enc1 = self.enc1(x)\n",
    "        \n",
    "        enc2 = self.enc2(F.max_pool2d(enc1, (2, 2)))\n",
    "        \n",
    "        enc3 = self.enc3(F.max_pool2d(enc2, (2,2)))\n",
    "        \n",
    "        enc4 = self.enc4(F.max_pool2d(enc3, (2,2)))\n",
    "        \n",
    "        \n",
    "        middle = self.middle(F.max_pool2d(enc4, (2,2)))\n",
    "        \n",
    "        \n",
    "        up1 = torch.cat([enc4, self.up1(middle)], 1)\n",
    "        dec1 = self.dec1(up1)\n",
    "        \n",
    "        up2 = torch.cat([enc3, self.up2(dec1)], 1)\n",
    "        dec2 = self.dec2(up2)\n",
    "        \n",
    "        up3 = torch.cat([enc2, self.up3(dec2)], 1)\n",
    "        dec3 =self.dec3(up3)\n",
    "        \n",
    "        up4 = torch.cat([enc1, self.up4(dec3)], 1)\n",
    "        dec4 = self.dec4(up4)\n",
    "        \n",
    "        \n",
    "        final=self.final(dec4)\n",
    "        \n",
    "        return final"
   ]
  },
  {
   "cell_type": "code",
   "execution_count": 6,
   "metadata": {
    "colab": {},
    "colab_type": "code",
    "id": "FJME_SvvkegW"
   },
   "outputs": [],
   "source": [
    "class WNet(nn.Module):\n",
    "    def __init__(self, squeeze, ch_mul=64, in_chans=3, out_chans=1000, num_classes = 300):\n",
    "        super(WNet, self).__init__()\n",
    "        if out_chans==1000:\n",
    "            out_chans=in_chans\n",
    "        self.UEnc=UEnc(squeeze, ch_mul, in_chans)\n",
    "        self.UDec=UDec(squeeze, ch_mul, out_chans)\n",
    "        self.Class = Classify(num_classes, squeeze)\n",
    "    def forward(self, x, returns='both'):\n",
    "        \n",
    "        enc = self.UEnc(x)\n",
    "        cla = self.Class(enc)\n",
    "        \n",
    "        if returns=='enc':\n",
    "            return enc, cla\n",
    "        \n",
    "        dec=self.UDec(F.softmax(enc, 1))\n",
    "        \n",
    "        if returns=='dec':\n",
    "            return dec\n",
    "        \n",
    "        if returns=='both':\n",
    "            return enc, dec, cla\n",
    "        \n",
    "        else:\n",
    "            raise ValueError('Invalid returns, returns must be in [enc dec both]')"
   ]
  },
  {
   "cell_type": "code",
   "execution_count": 7,
   "metadata": {
    "colab": {},
    "colab_type": "code",
    "id": "SLdWxvpKysds"
   },
   "outputs": [],
   "source": [
    "def dense_brightness_weight(img, sigma_X = 4, sigma_I = 10, r = 5):\n",
    "    \"\"\"\n",
    "    Calculate bright_weight(connection) for image\n",
    "    \n",
    "    Args:\n",
    "        image: ndarray [B,H,W,C].\n",
    "        sigma_X: sigma for metric of distance.\n",
    "        sigma_I: sigma for metric of intensity.\n",
    "        r: radius of circle that only the neighbor in circle is considered.\n",
    "    Returns:\n",
    "        brightness_weight: ndarray [B, W*H, W*H]\n",
    "    \"\"\"\n",
    "    \n",
    "    B,N,M,C = img.shape\n",
    "    \n",
    "    image = img.cpu().numpy()\n",
    "    weight_size = N*M\n",
    "    batch_size = image.shape[0]\n",
    "    bright_weights = np.zeros((batch_size,weight_size,weight_size))\n",
    "    reduce_image = np.mean(image,axis = 3)\n",
    "    \n",
    "#     print(bright_weights.shape, reduce_image.shape)\n",
    "    \n",
    "    for batch in range(batch_size):\n",
    "        # Reduce channel\n",
    "        flat_image = np.ravel(reduce_image[batch])\n",
    "        \n",
    "        # Gaussian neighbor\n",
    "        Fj, Fi = np.meshgrid(flat_image, flat_image)\n",
    "        X, Y = list(zip(*np.ndindex(image.shape[1:3])))\n",
    "        Xj, Xi = np.meshgrid(X,X)\n",
    "        Yj, Yi = np.meshgrid(Y,Y)\n",
    "        X_metric = np.sqrt((Xi - Xj)**2 + (Yi - Yj)**2)\n",
    "        F_metric = np.abs(Fi - Fj)\n",
    "        \n",
    "        # Brightness weight\n",
    "        bright_weight = np.exp(-(X_metric**2 / sigma_X**2) -(F_metric**2 / sigma_I**2))\n",
    "        bright_weight[X_metric >= r] = 0\n",
    "        bright_weights[batch] = bright_weight\n",
    "        \n",
    "    return bright_weights"
   ]
  },
  {
   "cell_type": "code",
   "execution_count": null,
   "metadata": {
    "colab": {},
    "colab_type": "code",
    "id": "jnPouZAJxNRk"
   },
   "outputs": [],
   "source": [
    "def soft_ncut(img, cla):\n",
    "\n",
    "    '''\n",
    "    img : B x C x N x M\n",
    "    cla : B x K x N x M\n",
    "    '''\n",
    "\n",
    "\n",
    "    B, C, N, M = img.shape\n",
    "    K = cla.shape[1]\n",
    "    weight_size = N*M\n",
    "\n",
    "    cla = cla.view(B,K,N*M)\n",
    "    img = torch.stack([img.transpose(0,3).transpose(1,2)[:,:,:,0]])\n",
    "#     print(img.shape)\n",
    "    image_weights = dense_brightness_weight(img)\n",
    "    sum_image_weights = np.sum(image_weights,axis=-1)\n",
    "    dis_assoc = torch.zeros((B,K))\n",
    "    assoc = torch.zeros((B,K))\n",
    "    for batch in range(B):\n",
    "        # [K, H*W] @ [H*W, H*W] = [K, H*W]\n",
    "        W_Ak = torch.mm(cla[batch], torch.tensor(image_weights[batch]).float().cuda()) # [K, H*W]\n",
    "        dissoc = torch.mm(W_Ak, cla[batch].transpose(0,-1)) # [K, K]\n",
    "        dis_assoc[batch] = torch.diag(dissoc) # [K]\n",
    "        vec = torch.tensor(sum_image_weights[batch]).float().cuda()\n",
    "        assoc[batch] = torch.matmul(cla[batch], vec) # [K]\n",
    "    eps = 0.0000001\n",
    "    soft_ncut = K - torch.sum((dis_assoc + eps) / (assoc + eps), 1)\n",
    "    return soft_ncut"
   ]
  },
  {
   "cell_type": "code",
   "execution_count": null,
   "metadata": {
    "colab": {},
    "colab_type": "code",
    "id": "jnPouZAJxNRk"
   },
   "outputs": [],
   "source": []
  },
  {
   "cell_type": "code",
   "execution_count": null,
   "metadata": {
    "colab": {},
    "colab_type": "code",
    "id": "_0FGFPVimXkz"
   },
   "outputs": [],
   "source": [
    "vertical_sobel=torch.nn.Parameter(torch.from_numpy(np.array([[[[1,  0,  -1], \n",
    "                                            [1,  0,  -1], \n",
    "                                            [1,  0,  -1]]]])).float().cuda(), requires_grad=False)\n",
    "horizontal_sobel=torch.nn.Parameter(torch.from_numpy(np.array([[[[1,   1,  1], \n",
    "                                              [0,   0,  0], \n",
    "                                              [-1 ,-1, -1]]]])).float().cuda(), requires_grad=False)\n",
    "\n",
    "\n",
    "n_segments = 500\n",
    "loss_fn = torch.nn.CrossEntropyLoss()\n",
    "# optimizer = torch.optim.SGD(model.parameters(), lr=lr, momentum=0.9)\n",
    "\n",
    "def gradient_regularization(softmax, device='cuda'):\n",
    "    vert=torch.cat([F.conv2d(softmax[:, i].unsqueeze(1), vertical_sobel) for i in range(softmax.shape[0])], 1)\n",
    "    hori=torch.cat([F.conv2d(softmax[:, i].unsqueeze(1), horizontal_sobel) for i in range(softmax.shape[0])], 1)\n",
    "    print('vert', torch.sum(vert))\n",
    "    print('hori', torch.sum(hori))\n",
    "    mag=torch.pow(torch.pow(vert, 2)+torch.pow(hori, 2), 1)\n",
    "    mean=torch.mean(mag)\n",
    "    return mean\n",
    "  \n",
    "def ncut_cons_loss(img, cla):\n",
    "    \n",
    "    img = img.transpose(0,3).transpose(1,2).transpose(1,0).cpu().data.numpy()[:,:,:,0]\n",
    "    \n",
    "    labels1 = segmentation.slic(img, compactness=30, n_segments=n_segments)\n",
    "#     g = graph.rag_mean_color(img, labels1, mode='similarity')\n",
    "#     labels2 = graph.cut_normalized(labels1, g, thresh=0.05)\n",
    "    labels2 = labels1\n",
    "    \n",
    "    \n",
    "    _, classes  = torch.max(cla,1)\n",
    "#     classes = torch.reshape(classes, (labels2.shape[0],))\n",
    "    \n",
    "#     print(classes.shape, labels2.shape, labels1.shape, img.shape)\n",
    "    loss = loss_fn(cla.view(1,n_segments,-1), torch.tensor(labels2).view(1,-1).cuda())\n",
    "    \n",
    "#     print(out2.shape, enc.shape)\n",
    "    return loss\n",
    "\n",
    "def train_op(model, optimizer, input, psi=0.9):\n",
    "    enc, cla = model(input, returns='enc')\n",
    "#     print(cla.shape)\n",
    "    sobel_loss = gradient_regularization(enc)*psi/50\n",
    "#     n_cut_loss2 = ncut_cons_loss(input, enc)*psi\n",
    "#     n_cut_loss = n_cut_loss1 + n_cut_loss2\n",
    "\n",
    "    n_cut_loss = soft_ncut(input, cla)*psi\n",
    "\n",
    "    n_cut_loss.backward()\n",
    "    optimizer.step()\n",
    "    optimizer.zero_grad()\n",
    "    \n",
    "    dec = model(input, returns='dec')\n",
    "    rec_loss=torch.mean(torch.pow(torch.pow(input -  dec, 2), 1))*(1-psi)\n",
    "    rec_loss.backward()\n",
    "    optimizer.step()\n",
    "    optimizer.zero_grad()\n",
    "    print(n_cut_loss, rec_loss)\n",
    "    return model\n",
    "\n",
    "def test():\n",
    "    wnet=WNet(n_segments, num_classes = n_segments)\n",
    "    wnet=wnet.cuda()\n",
    "    synthetic_data=torch.rand((1, 3, 96, 96)).cuda()\n",
    "    optimizer=torch.optim.SGD(wnet.parameters(), 0.001)\n",
    "    train_op(wnet, optimizer, synthetic_data)"
   ]
  },
  {
   "cell_type": "code",
   "execution_count": 27,
   "metadata": {
    "colab": {
     "base_uri": "https://localhost:8080/",
     "height": 33
    },
    "colab_type": "code",
    "id": "QsHoybdovhuc",
    "outputId": "da64934d-6c32-4363-a7b1-160e9b616926"
   },
   "outputs": [
    {
     "name": "stdout",
     "output_type": "stream",
     "text": [
      "tensor([453.9581], grad_fn=<MulBackward0>) tensor(0.0488, device='cuda:0', grad_fn=<MulBackward0>)\n"
     ]
    }
   ],
   "source": [
    "torch.cuda.empty_cache()\n",
    "test()"
   ]
  },
  {
   "cell_type": "code",
   "execution_count": null,
   "metadata": {
    "colab": {},
    "colab_type": "code",
    "id": "meS9hY2ZcOOy"
   },
   "outputs": [],
   "source": [
    "def train(frame1 , frame2):\n",
    "  prvs = cv2.cvtColor(frame1,cv2.COLOR_BGR2GRAY)\n",
    "  next = cv2.cvtColor(frame2,cv2.COLOR_BGR2GRAY)\n",
    "  hsv = np.zeros_like(frame1)\n",
    "  hsv[...,1] = 255\n",
    "\n",
    "  # while(1):\n",
    "  next = cv2.cvtColor(frame2,cv2.COLOR_BGR2GRAY)\n",
    "  flow = cv2.calcOpticalFlowFarneback(prvs, next, None,0.5, 3, 15, 3, 5, 1.2, 0)\n",
    "  mag, ang = cv2.cartToPolar(flow[...,0], flow[...,1])\n",
    "  hsv[...,0] = ang*180/np.pi/2\n",
    "  hsv[...,2] = cv2.normalize(mag,None,0,255,cv2.NORM_MINMAX)\n",
    "  rgb = cv2.cvtColor(hsv,cv2.COLOR_HSV2RGB)\n",
    "  \n",
    "  datav = torch.from_numpy( np.array([frame2.transpose( (2, 0, 1) ).astype('float32')/255.]) )\n",
    "  datav = Variable(datav)\n",
    "  if (use_cuda):\n",
    "    datav = datav.cuda()\n",
    "  labels1 = segmentation.slic(rgb, compactness=30, n_segments=400)\n",
    "  out1 = color.label2rgb(labels1, rgb, kind='avg')\n",
    "  g = graph.rag_mean_color(rgb, labels1, mode='similarity')\n",
    "  labels2 = graph.cut_normalized(labels1, g,thresh=0.5)\n",
    "  out2 = color.label2rgb(labels2, frame2, kind='avg')\n",
    "\n",
    "  edges = cv2.Canny(frame2,50,300)\n",
    "  \n",
    "  input = datav#torch.stack([torch.tensor(frame2)]).cuda()\n",
    "  \n",
    "  for batch_idx in range(max_iter): #1000 is max iters\n",
    "      # forwarding\n",
    "      optimizer.zero_grad()\n",
    "      enc, cla = model(input, returns='enc')\n",
    "      \n",
    "      sobel_loss = gradient_regularization(enc)*psi/50\n",
    "      \n",
    "      \n",
    "      n_cut_loss = soft_ncut(input, cla)*psi\n",
    "\n",
    "\n",
    "      dec = model(input, returns='dec')\n",
    "      rec_loss=torch.mean(torch.pow(torch.pow(torch.tensor(edges).view(1, edges.shape[0],edges.shape[1]).float().cuda() -  dec, 2), 1))\n",
    "      \n",
    "#       print(n_cut_loss, rec_loss)\n",
    "      target = labels2\n",
    "      target=torch.tensor(target)\n",
    "      \n",
    "      mask=torch.tensor((out2[:,:,0]!=0)*1)\n",
    "      mask=mask.view(mask.shape,500).float()\n",
    "      target = Variable( target )\n",
    "      \n",
    "      if(use_cuda):\n",
    "        mask = mask.cuda()\n",
    "        target = target.cuda()\n",
    "      \n",
    "      output = enc\n",
    "      masked_out = (enc*mask)\n",
    "      masked_tar = (target.float()*mask).view(1,edges.shape[0],edges.shape[1])\n",
    "   \n",
    "  \n",
    "#       print(output.shape)\n",
    "      loss1 = loss_fn(masked_out, masked_tar.to(dtype = torch.int64)).cuda()\n",
    "      loss2 = soft_ncut(datav, output).cuda()*psi\n",
    "      loss = loss1.cuda() + loss2.cuda() + n_cut_loss.cuda()*0 + rec_loss.cuda()*0.00001 + sobel_loss.cuda()*0.00001\n",
    "#       loss += loss_mse(edge_preds[0][0], torch.tensor(edges).float().cuda())*0.001\n",
    "      loss.backward()\n",
    "      optimizer.step()\n",
    "      \n",
    "      print (batch_idx, '/',max_iter, ':', loss1.data, loss2.data, n_cut_loss.data, rec_loss.data, sobel_loss.data)"
   ]
  },
  {
   "cell_type": "code",
   "execution_count": 14,
   "metadata": {
    "colab": {},
    "colab_type": "code",
    "id": "-zt7K120wgjl"
   },
   "outputs": [],
   "source": [
    "wnet=WNet(500)\n",
    "# wnet=wnet.cuda()\n",
    "optimizer=torch.optim.Adam(wnet.parameters(), 0.001)\n",
    "torch.cuda.empty_cache()\n",
    "model= wnet\n",
    "model.load_state_dict(torch.load('model.h5', map_location = 'cpu'))"
   ]
  },
  {
   "cell_type": "code",
   "execution_count": 53,
   "metadata": {
    "colab": {
     "base_uri": "https://localhost:8080/",
     "height": 747
    },
    "colab_type": "code",
    "id": "2p2pHx4H48RV",
    "outputId": "e756d6ed-fc67-421d-85ea-a827b340d99b"
   },
   "outputs": [
    {
     "name": "stdout",
     "output_type": "stream",
     "text": [
      "vert tensor(-152.4746, device='cuda:0', grad_fn=<SumBackward0>)\n",
      "hori tensor(163.8831, device='cuda:0', grad_fn=<SumBackward0>)\n",
      "0 / 1 : tensor(5.5878, device='cuda:0') tensor([0.9718], device='cuda:0') tensor([0.9718]) tensor(12343.0527, device='cuda:0') tensor(1.0888e-05, device='cuda:0')\n",
      "Epoch: 10 5 0.001\n",
      "vert tensor(-156.4581, device='cuda:0', grad_fn=<SumBackward0>)\n",
      "hori tensor(163.1299, device='cuda:0', grad_fn=<SumBackward0>)\n",
      "0 / 1 : tensor(5.5789, device='cuda:0') tensor([0.9708], device='cuda:0') tensor([0.9708]) tensor(12118.5713, device='cuda:0') tensor(1.0889e-05, device='cuda:0')\n",
      "Epoch: 10 5 0.001\n",
      "vert tensor(-160.9260, device='cuda:0', grad_fn=<SumBackward0>)\n",
      "hori tensor(162.6288, device='cuda:0', grad_fn=<SumBackward0>)\n"
     ]
    },
    {
     "ename": "KeyboardInterrupt",
     "evalue": "ignored",
     "output_type": "error",
     "traceback": [
      "\u001b[0;31m---------------------------------------------------------------------------\u001b[0m",
      "\u001b[0;31mKeyboardInterrupt\u001b[0m                         Traceback (most recent call last)",
      "\u001b[0;32m<ipython-input-53-059ca5f2ed28>\u001b[0m in \u001b[0;36m<module>\u001b[0;34m()\u001b[0m\n\u001b[1;32m     23\u001b[0m \u001b[0;34m\u001b[0m\u001b[0m\n\u001b[1;32m     24\u001b[0m         \u001b[0mtorch\u001b[0m\u001b[0;34m.\u001b[0m\u001b[0mcuda\u001b[0m\u001b[0;34m.\u001b[0m\u001b[0mempty_cache\u001b[0m\u001b[0;34m(\u001b[0m\u001b[0;34m)\u001b[0m\u001b[0;34m\u001b[0m\u001b[0;34m\u001b[0m\u001b[0m\n\u001b[0;32m---> 25\u001b[0;31m         \u001b[0mtrain\u001b[0m\u001b[0;34m(\u001b[0m\u001b[0mframe1\u001b[0m\u001b[0;34m,\u001b[0m \u001b[0mframe2\u001b[0m\u001b[0;34m)\u001b[0m\u001b[0;34m\u001b[0m\u001b[0;34m\u001b[0m\u001b[0m\n\u001b[0m\u001b[1;32m     26\u001b[0m \u001b[0;34m\u001b[0m\u001b[0m\n\u001b[1;32m     27\u001b[0m       \u001b[0mprint\u001b[0m\u001b[0;34m(\u001b[0m\u001b[0;34m\"Epoch:\"\u001b[0m\u001b[0;34m,\u001b[0m\u001b[0mepochs\u001b[0m\u001b[0;34m,\u001b[0m \u001b[0mnum\u001b[0m\u001b[0;34m,\u001b[0m \u001b[0mpsi\u001b[0m\u001b[0;34m)\u001b[0m\u001b[0;34m\u001b[0m\u001b[0;34m\u001b[0m\u001b[0m\n",
      "\u001b[0;32m<ipython-input-51-64e307173bed>\u001b[0m in \u001b[0;36mtrain\u001b[0;34m(frame1, frame2)\u001b[0m\n\u001b[1;32m     60\u001b[0m \u001b[0;31m#       print(output.shape)\u001b[0m\u001b[0;34m\u001b[0m\u001b[0;34m\u001b[0m\u001b[0;34m\u001b[0m\u001b[0m\n\u001b[1;32m     61\u001b[0m       \u001b[0mloss1\u001b[0m \u001b[0;34m=\u001b[0m \u001b[0mloss_fn\u001b[0m\u001b[0;34m(\u001b[0m\u001b[0mmasked_out\u001b[0m\u001b[0;34m,\u001b[0m \u001b[0mmasked_tar\u001b[0m\u001b[0;34m.\u001b[0m\u001b[0mto\u001b[0m\u001b[0;34m(\u001b[0m\u001b[0mdtype\u001b[0m \u001b[0;34m=\u001b[0m \u001b[0mtorch\u001b[0m\u001b[0;34m.\u001b[0m\u001b[0mint64\u001b[0m\u001b[0;34m)\u001b[0m\u001b[0;34m)\u001b[0m\u001b[0;34m.\u001b[0m\u001b[0mcuda\u001b[0m\u001b[0;34m(\u001b[0m\u001b[0;34m)\u001b[0m\u001b[0;34m\u001b[0m\u001b[0;34m\u001b[0m\u001b[0m\n\u001b[0;32m---> 62\u001b[0;31m       \u001b[0mloss2\u001b[0m \u001b[0;34m=\u001b[0m \u001b[0msoft_ncut\u001b[0m\u001b[0;34m(\u001b[0m\u001b[0mdatav\u001b[0m\u001b[0;34m,\u001b[0m \u001b[0moutput\u001b[0m\u001b[0;34m)\u001b[0m\u001b[0;34m.\u001b[0m\u001b[0mcuda\u001b[0m\u001b[0;34m(\u001b[0m\u001b[0;34m)\u001b[0m\u001b[0;34m*\u001b[0m\u001b[0mpsi\u001b[0m\u001b[0;34m\u001b[0m\u001b[0;34m\u001b[0m\u001b[0m\n\u001b[0m\u001b[1;32m     63\u001b[0m       \u001b[0mloss\u001b[0m \u001b[0;34m=\u001b[0m \u001b[0mloss1\u001b[0m\u001b[0;34m.\u001b[0m\u001b[0mcuda\u001b[0m\u001b[0;34m(\u001b[0m\u001b[0;34m)\u001b[0m \u001b[0;34m+\u001b[0m \u001b[0mloss2\u001b[0m\u001b[0;34m.\u001b[0m\u001b[0mcuda\u001b[0m\u001b[0;34m(\u001b[0m\u001b[0;34m)\u001b[0m \u001b[0;34m+\u001b[0m \u001b[0mn_cut_loss\u001b[0m\u001b[0;34m.\u001b[0m\u001b[0mcuda\u001b[0m\u001b[0;34m(\u001b[0m\u001b[0;34m)\u001b[0m\u001b[0;34m*\u001b[0m\u001b[0;36m0\u001b[0m \u001b[0;34m+\u001b[0m \u001b[0mrec_loss\u001b[0m\u001b[0;34m.\u001b[0m\u001b[0mcuda\u001b[0m\u001b[0;34m(\u001b[0m\u001b[0;34m)\u001b[0m\u001b[0;34m*\u001b[0m\u001b[0;36m0.00001\u001b[0m \u001b[0;34m+\u001b[0m \u001b[0msobel_loss\u001b[0m\u001b[0;34m.\u001b[0m\u001b[0mcuda\u001b[0m\u001b[0;34m(\u001b[0m\u001b[0;34m)\u001b[0m\u001b[0;34m*\u001b[0m\u001b[0;36m0.00001\u001b[0m\u001b[0;34m\u001b[0m\u001b[0;34m\u001b[0m\u001b[0m\n\u001b[1;32m     64\u001b[0m \u001b[0;31m#       loss += loss_mse(edge_preds[0][0], torch.tensor(edges).float().cuda())*0.001\u001b[0m\u001b[0;34m\u001b[0m\u001b[0;34m\u001b[0m\u001b[0;34m\u001b[0m\u001b[0m\n",
      "\u001b[0;32m<ipython-input-25-3054664c989d>\u001b[0m in \u001b[0;36msoft_ncut\u001b[0;34m(img, cla)\u001b[0m\n\u001b[1;32m     14\u001b[0m     \u001b[0mimg\u001b[0m \u001b[0;34m=\u001b[0m \u001b[0mtorch\u001b[0m\u001b[0;34m.\u001b[0m\u001b[0mstack\u001b[0m\u001b[0;34m(\u001b[0m\u001b[0;34m[\u001b[0m\u001b[0mimg\u001b[0m\u001b[0;34m.\u001b[0m\u001b[0mtranspose\u001b[0m\u001b[0;34m(\u001b[0m\u001b[0;36m0\u001b[0m\u001b[0;34m,\u001b[0m\u001b[0;36m3\u001b[0m\u001b[0;34m)\u001b[0m\u001b[0;34m.\u001b[0m\u001b[0mtranspose\u001b[0m\u001b[0;34m(\u001b[0m\u001b[0;36m1\u001b[0m\u001b[0;34m,\u001b[0m\u001b[0;36m2\u001b[0m\u001b[0;34m)\u001b[0m\u001b[0;34m[\u001b[0m\u001b[0;34m:\u001b[0m\u001b[0;34m,\u001b[0m\u001b[0;34m:\u001b[0m\u001b[0;34m,\u001b[0m\u001b[0;34m:\u001b[0m\u001b[0;34m,\u001b[0m\u001b[0;36m0\u001b[0m\u001b[0;34m]\u001b[0m\u001b[0;34m]\u001b[0m\u001b[0;34m)\u001b[0m\u001b[0;34m\u001b[0m\u001b[0;34m\u001b[0m\u001b[0m\n\u001b[1;32m     15\u001b[0m \u001b[0;31m#     print(img.shape)\u001b[0m\u001b[0;34m\u001b[0m\u001b[0;34m\u001b[0m\u001b[0;34m\u001b[0m\u001b[0m\n\u001b[0;32m---> 16\u001b[0;31m     \u001b[0mimage_weights\u001b[0m \u001b[0;34m=\u001b[0m \u001b[0mdense_brightness_weight\u001b[0m\u001b[0;34m(\u001b[0m\u001b[0mimg\u001b[0m\u001b[0;34m)\u001b[0m\u001b[0;34m\u001b[0m\u001b[0;34m\u001b[0m\u001b[0m\n\u001b[0m\u001b[1;32m     17\u001b[0m     \u001b[0msum_image_weights\u001b[0m \u001b[0;34m=\u001b[0m \u001b[0mnp\u001b[0m\u001b[0;34m.\u001b[0m\u001b[0msum\u001b[0m\u001b[0;34m(\u001b[0m\u001b[0mimage_weights\u001b[0m\u001b[0;34m,\u001b[0m\u001b[0maxis\u001b[0m\u001b[0;34m=\u001b[0m\u001b[0;34m-\u001b[0m\u001b[0;36m1\u001b[0m\u001b[0;34m)\u001b[0m\u001b[0;34m\u001b[0m\u001b[0;34m\u001b[0m\u001b[0m\n\u001b[1;32m     18\u001b[0m     \u001b[0mdis_assoc\u001b[0m \u001b[0;34m=\u001b[0m \u001b[0mtorch\u001b[0m\u001b[0;34m.\u001b[0m\u001b[0mzeros\u001b[0m\u001b[0;34m(\u001b[0m\u001b[0;34m(\u001b[0m\u001b[0mB\u001b[0m\u001b[0;34m,\u001b[0m\u001b[0mK\u001b[0m\u001b[0;34m)\u001b[0m\u001b[0;34m)\u001b[0m\u001b[0;34m\u001b[0m\u001b[0;34m\u001b[0m\u001b[0m\n",
      "\u001b[0;32m<ipython-input-24-bc1cac7c3486>\u001b[0m in \u001b[0;36mdense_brightness_weight\u001b[0;34m(img, sigma_X, sigma_I, r)\u001b[0m\n\u001b[1;32m     31\u001b[0m         \u001b[0mXj\u001b[0m\u001b[0;34m,\u001b[0m \u001b[0mXi\u001b[0m \u001b[0;34m=\u001b[0m \u001b[0mnp\u001b[0m\u001b[0;34m.\u001b[0m\u001b[0mmeshgrid\u001b[0m\u001b[0;34m(\u001b[0m\u001b[0mX\u001b[0m\u001b[0;34m,\u001b[0m\u001b[0mX\u001b[0m\u001b[0;34m)\u001b[0m\u001b[0;34m\u001b[0m\u001b[0;34m\u001b[0m\u001b[0m\n\u001b[1;32m     32\u001b[0m         \u001b[0mYj\u001b[0m\u001b[0;34m,\u001b[0m \u001b[0mYi\u001b[0m \u001b[0;34m=\u001b[0m \u001b[0mnp\u001b[0m\u001b[0;34m.\u001b[0m\u001b[0mmeshgrid\u001b[0m\u001b[0;34m(\u001b[0m\u001b[0mY\u001b[0m\u001b[0;34m,\u001b[0m\u001b[0mY\u001b[0m\u001b[0;34m)\u001b[0m\u001b[0;34m\u001b[0m\u001b[0;34m\u001b[0m\u001b[0m\n\u001b[0;32m---> 33\u001b[0;31m         \u001b[0mX_metric\u001b[0m \u001b[0;34m=\u001b[0m \u001b[0mnp\u001b[0m\u001b[0;34m.\u001b[0m\u001b[0msqrt\u001b[0m\u001b[0;34m(\u001b[0m\u001b[0;34m(\u001b[0m\u001b[0mXi\u001b[0m \u001b[0;34m-\u001b[0m \u001b[0mXj\u001b[0m\u001b[0;34m)\u001b[0m\u001b[0;34m**\u001b[0m\u001b[0;36m2\u001b[0m \u001b[0;34m+\u001b[0m \u001b[0;34m(\u001b[0m\u001b[0mYi\u001b[0m \u001b[0;34m-\u001b[0m \u001b[0mYj\u001b[0m\u001b[0;34m)\u001b[0m\u001b[0;34m**\u001b[0m\u001b[0;36m2\u001b[0m\u001b[0;34m)\u001b[0m\u001b[0;34m\u001b[0m\u001b[0;34m\u001b[0m\u001b[0m\n\u001b[0m\u001b[1;32m     34\u001b[0m         \u001b[0mF_metric\u001b[0m \u001b[0;34m=\u001b[0m \u001b[0mnp\u001b[0m\u001b[0;34m.\u001b[0m\u001b[0mabs\u001b[0m\u001b[0;34m(\u001b[0m\u001b[0mFi\u001b[0m \u001b[0;34m-\u001b[0m \u001b[0mFj\u001b[0m\u001b[0;34m)\u001b[0m\u001b[0;34m\u001b[0m\u001b[0;34m\u001b[0m\u001b[0m\n\u001b[1;32m     35\u001b[0m \u001b[0;34m\u001b[0m\u001b[0m\n",
      "\u001b[0;31mKeyboardInterrupt\u001b[0m: "
     ]
    }
   ],
   "source": [
    "max_iter = 1\n",
    "psi = 0.01\n",
    "use_cuda = True\n",
    "for epochs in range(50):\n",
    "  psi = epochs*0.0001\n",
    "  for num in [1,2,3,4,5]:\n",
    "    path1 = './Dataset/camera'+str(num)+'/JPEGImages'\n",
    "    folder_path = path1\n",
    "    rand = np.random.randint(300)\n",
    "    file_names = sorted(os.listdir(folder_path))[rand:rand+10]\n",
    "    file_index = 0\n",
    "    num_images = len(file_names)\n",
    "    batch_size = 1\n",
    "    \n",
    "    for batch_number in range(0,num_images // batch_size - 1):\n",
    "      batch = []\n",
    "      for i in range(0,batch_size):\n",
    "        filename = os.path.join(folder_path, file_names[file_index])\n",
    "        filename2 = os.path.join(folder_path, file_names[file_index+1])\n",
    "\n",
    "        frame1 = cv2.resize(cv2.imread(filename), (64,64))\n",
    "        frame2 = cv2.resize(cv2.imread(filename2), (64,64))\n",
    "        \n",
    "        torch.cuda.empty_cache()\n",
    "        train(frame1, frame2)\n",
    "      \n",
    "      print(\"Epoch:\",epochs, num, psi)\n",
    "      torch.cuda.empty_cache()\n",
    "      if(batch_number%5 == 0):\n",
    "        clr(wait = True)\n",
    "        \n",
    "torch.save(model.state_dict(), 'drive/My Drive/Datasets/modelwnet.h5')"
   ]
  },
  {
   "cell_type": "code",
   "execution_count": 100,
   "metadata": {
    "colab": {
     "base_uri": "https://localhost:8080/",
     "height": 286
    },
    "colab_type": "code",
    "id": "KUis2yj_5Db3",
    "outputId": "7640fb44-ad2d-44a8-cf58-50a34e3f9106"
   },
   "outputs": [
    {
     "data": {
      "text/plain": [
       "<matplotlib.image.AxesImage at 0x7fec160626d8>"
      ]
     },
     "execution_count": 100,
     "metadata": {},
     "output_type": "execute_result"
    },
    {
     "data": {
      "image/png": "[encoded data removed]",
      "text/plain": [
       "<Figure size 432x288 with 1 Axes>"
      ]
     },
     "metadata": {
      "needs_background": "light"
     },
     "output_type": "display_data"
    }
   ],
   "source": [
    "img = cv2.resize(cv2.imread('../../Dataset/camera4/JPEGImages/00015.jpg'), (224,224))\n",
    "# img = cv2.resize(cv2.imread('../../sample2.jpg'), (224,224))\n",
    "datav = torch.from_numpy( np.array([img.transpose( (2, 0, 1) ).astype('float32')/255.]) )\n",
    "datav = Variable(datav)\n",
    "output = model(datav)[0][0]\n",
    "_, labels_pred = torch.max(output,0)\n",
    "im_target_rgb = color.label2rgb(labels_pred.cpu().numpy(), img, kind = 'rgb')\n",
    "plt.imshow(im_target_rgb)"
   ]
  },
  {
   "cell_type": "code",
   "execution_count": 109,
   "metadata": {
    "colab": {
     "base_uri": "https://localhost:8080/",
     "height": 286
    },
    "colab_type": "code",
    "id": "vgchDgxs50CA",
    "outputId": "5b4dec24-40a3-46e4-eb74-60778d3d8c01"
   },
   "outputs": [
    {
     "data": {
      "image/png": "[encoded data removed]",
      "text/plain": [
       "<Figure size 432x288 with 1 Axes>"
      ]
     },
     "metadata": {
      "needs_background": "light"
     },
     "output_type": "display_data"
    }
   ],
   "source": [
    "plt.imshow(labels_pred.cpu().numpy()%100)\n",
    "plt.savefig('Wnet02.png')"
   ]
  },
  {
   "cell_type": "code",
   "execution_count": 111,
   "metadata": {
    "colab": {},
    "colab_type": "code",
    "id": "4F0B2XRzsExK"
   },
   "outputs": [],
   "source": [
    "g = graph.rag_mean_color(img, labels_pred.cpu().numpy()%100, mode='similarity')\n",
    "labels2 = graph.cut_normalized(labels_pred.cpu().numpy()%100, g, thresh=0.01)\n",
    "out2 = color.label2rgb(labels2, img, kind='avg')*2"
   ]
  },
  {
   "cell_type": "code",
   "execution_count": 112,
   "metadata": {
    "colab": {
     "base_uri": "https://localhost:8080/",
     "height": 286
    },
    "colab_type": "code",
    "id": "OcTBwgjG95l1",
    "outputId": "5d62009c-fafd-4d8f-f144-c0b5af7c60bd"
   },
   "outputs": [
    {
     "data": {
      "image/png": "[encoded data removed]",
      "text/plain": [
       "<Figure size 432x288 with 1 Axes>"
      ]
     },
     "metadata": {
      "needs_background": "light"
     },
     "output_type": "display_data"
    }
   ],
   "source": [
    "plt.imshow(out2)\n",
    "plt.savefig('Wnet01.png')"
   ]
  },
  {
   "cell_type": "code",
   "execution_count": 113,
   "metadata": {
    "colab": {},
    "colab_type": "code",
    "id": "1nzyttmW97eZ"
   },
   "outputs": [],
   "source": [
    "torch.save(model.state_dict(), 'model.h5')"
   ]
  },
  {
   "cell_type": "code",
   "execution_count": null,
   "metadata": {
    "colab": {},
    "colab_type": "code",
    "id": "vezQyVqFMclM"
   },
   "outputs": [],
   "source": []
  }
 ],
 "metadata": {
  "accelerator": "GPU",
  "colab": {
   "collapsed_sections": [],
   "name": "WnetSegmentation.ipynb",
   "provenance": [],
   "version": "0.3.2"
  },
  "kernelspec": {
   "display_name": "Python 3",
   "language": "python",
   "name": "python3"
  },
  "language_info": {
   "codemirror_mode": {
    "name": "ipython",
    "version": 3
   },
   "file_extension": ".py",
   "mimetype": "text/x-python",
   "name": "python",
   "nbconvert_exporter": "python",
   "pygments_lexer": "ipython3",
   "version": "3.6.8"
  }
 },
 "nbformat": 4,
 "nbformat_minor": 2
}
