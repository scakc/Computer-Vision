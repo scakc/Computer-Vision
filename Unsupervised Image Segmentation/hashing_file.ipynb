{
 "cells": [
  {
   "cell_type": "code",
   "execution_count": 4,
   "metadata": {},
   "outputs": [],
   "source": [
    "import hashlib\n",
    "import os"
   ]
  },
  {
   "cell_type": "code",
   "execution_count": 5,
   "metadata": {},
   "outputs": [],
   "source": [
    "def md5(fname):\n",
    "    hash_md5 = hashlib.md5()\n",
    "    with open(fname, \"rb\") as f:\n",
    "        for chunk in iter(lambda: f.read(4096), b\"\"):\n",
    "            hash_md5.update(chunk)\n",
    "    return hash_md5.hexdigest()"
   ]
  },
  {
   "cell_type": "code",
   "execution_count": 10,
   "metadata": {},
   "outputs": [],
   "source": [
    "path = './'\n",
    "file_names = []\n",
    "for folder in os.listdir(path):\n",
    "    if('.' not in folder):\n",
    "        for file in os.listdir(path + '/'+folder):\n",
    "            file_names.append(path + '/'+folder + '/'+file)"
   ]
  },
  {
   "cell_type": "code",
   "execution_count": 11,
   "metadata": {},
   "outputs": [
    {
     "name": "stdout",
     "output_type": "stream",
     "text": [
      "['87f74e1717b34e03dc7e122c1f14e293', 'e3581476a091d3fbb4d5246379d6b8dc', 'b2b3744a2c1d93d1987166bcf6bb67fa', '4532fed66b88e94510d71e2bee4fa97a', '22bb5d07e3a0a107b29d192062346c80', '0923c999370c2f1e8d5dbf52b8a58f5c', '4cf51df1771cd97cb6954175b9a1c63b', '77de1a2af61a6b22575cbd1a0ce9d7a2', '927c4eac933225f6897ad0a15cad05c7', 'b38fc9235a92e36fc9af28f7758f8c4b', '68d977dd8e3c694d9895496ab6b51543', 'abd1667dd299bd5425de1777e7743323', '7aa2e3b95be765e1dd284dd3334d842f', '293e3770f27043202e91ddcd8a8292f5', '5e72532ce34e03ed767dfb3a7bf8337b', 'c4422e271db383689b2f97e956a5f1ed', '932c2fc7c93ded78a007e51024f3b69b', 'e78f7de0ca85a58de86d2f3f36b4d641']\n"
     ]
    }
   ],
   "source": [
    "md5s = []\n",
    "for filename in  file_names:\n",
    "    md5s.append(md5(filename))\n",
    "print(md5s)"
   ]
  },
  {
   "cell_type": "code",
   "execution_count": null,
   "metadata": {},
   "outputs": [],
   "source": []
  }
 ],
 "metadata": {
  "kernelspec": {
   "display_name": "Python 3",
   "language": "python",
   "name": "python3"
  },
  "language_info": {
   "codemirror_mode": {
    "name": "ipython",
    "version": 3
   },
   "file_extension": ".py",
   "mimetype": "text/x-python",
   "name": "python",
   "nbconvert_exporter": "python",
   "pygments_lexer": "ipython3",
   "version": "3.6.8"
  }
 },
 "nbformat": 4,
 "nbformat_minor": 2
}
