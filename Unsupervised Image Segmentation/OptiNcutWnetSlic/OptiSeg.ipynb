{
 "cells": [
  {
   "cell_type": "code",
   "execution_count": null,
   "metadata": {
    "colab": {
     "base_uri": "https://localhost:8080/",
     "height": 118
    },
    "colab_type": "code",
    "id": "TacZOiGk7EHD",
    "outputId": "6785aff0-a17b-49a5-e9e7-8a67efd7f1ef"
   },
   "outputs": [
    {
     "name": "stdout",
     "output_type": "stream",
     "text": [
      "Go to this URL in a browser: https://accounts.google.com/o/oauth2/auth?client_id=947318989803-6bn6qk8qdgf4n4g3pfee6491hc0brc4i.apps.googleusercontent.com&redirect_uri=urn%3Aietf%3Awg%3Aoauth%3A2.0%3Aoob&scope=email%20https%3A%2F%2Fwww.googleapis.com%2Fauth%2Fdocs.test%20https%3A%2F%2Fwww.googleapis.com%2Fauth%2Fdrive%20https%3A%2F%2Fwww.googleapis.com%2Fauth%2Fdrive.photos.readonly%20https%3A%2F%2Fwww.googleapis.com%2Fauth%2Fpeopleapi.readonly&response_type=code\n",
      "\n",
      "Enter your authorization code:\n",
      "··········\n",
      "Mounted at /content/drive/\n"
     ]
    }
   ],
   "source": [
    "from google.colab import drive\n",
    "drive.mount('/content/drive/')"
   ]
  },
  {
   "cell_type": "markdown",
   "metadata": {
    "colab_type": "text",
    "id": "tctkByND7Wlt"
   },
   "source": [
    "import tarfile\n",
    "tar = tarfile.open(\"drive/My Drive/Datasets/Dataset.tar.gz\")\n",
    "tar.extractall()\n",
    "tar.close()"
   ]
  },
  {
   "cell_type": "code",
   "execution_count": 1,
   "metadata": {
    "colab": {},
    "colab_type": "code",
    "id": "1Spvbea57dv9"
   },
   "outputs": [],
   "source": [
    "import cv2\n",
    "import numpy as np\n",
    "from skimage import data, segmentation, color\n",
    "from skimage.future import graph\n",
    "from matplotlib import pyplot as plt\n",
    "import torch\n",
    "import torch.nn as nn\n",
    "import torch.nn.functional as F\n",
    "import torch.optim as optim\n",
    "from torchvision import datasets, transforms\n",
    "from torch.autograd import Variable\n",
    "import sys\n",
    "import torch.nn.init\n",
    "import os\n",
    "from IPython.display import clear_output as clr"
   ]
  },
  {
   "cell_type": "code",
   "execution_count": 2,
   "metadata": {
    "colab": {},
    "colab_type": "code",
    "id": "Rf-k6u0p7fZ_"
   },
   "outputs": [],
   "source": [
    "nu=2\n",
    "use_cuda = False\n",
    "class MyNet(nn.Module):\n",
    "    def __init__(self,input_dim, nlast = 500):\n",
    "        super(MyNet, self).__init__()\n",
    "        self.conv1 = nn.Conv2d(input_dim, 100, kernel_size=3, stride=1, padding=1 )\n",
    "        self.bn1 = nn.BatchNorm2d(100)\n",
    "        self.conv2 = []\n",
    "        self.bn2 = []\n",
    "        for i in range(nu-1):\n",
    "            self.conv2.append( nn.Conv2d(100, 100, kernel_size=3, stride=1, padding=1 ) )\n",
    "            self.bn2.append( nn.BatchNorm2d(100) )\n",
    "        \n",
    "        self.conv3 = nn.Conv2d(100,nlast, kernel_size=1, stride=1, padding=0 )\n",
    "        self.bn3 = nn.BatchNorm2d(nlast)\n",
    "        \n",
    "        self.conv4 = nn.Conv2d(100,1, kernel_size=1, stride=1, padding=0 )\n",
    "        self.bn4 = nn.BatchNorm2d(1)\n",
    "\n",
    "    def forward(self, x):\n",
    "#         print(self.conv2[0])\n",
    "#         print(self.conv2[1])\n",
    "        x = self.conv1(x)\n",
    "        x = F.relu( x )\n",
    "        x = self.bn1(x)\n",
    "        for i in range(nu-1):\n",
    "#             print(x.shape)\n",
    "            x = self.conv2[i](x)\n",
    "            x = F.relu( x )\n",
    "#             print(x.shape)\n",
    "            x = self.bn2[i](x)\n",
    "#             print(x.shape)\n",
    "        \n",
    "        y = self.conv4(x)\n",
    "        y = self.bn4(y)\n",
    "      \n",
    "        x = self.conv3(x)\n",
    "        x = self.bn3(x)\n",
    "        return x, y"
   ]
  },
  {
   "cell_type": "code",
   "execution_count": null,
   "metadata": {
    "colab": {},
    "colab_type": "code",
    "id": "OfnmHpfEH55D"
   },
   "outputs": [],
   "source": [
    "def dense_brightness_weight(img, sigma_X = 4, sigma_I = 10, r = 5):\n",
    "    \"\"\"\n",
    "    Calculate bright_weight(connection) for image\n",
    "    \n",
    "    Args:\n",
    "        image: ndarray [B,H,W,C].\n",
    "        sigma_X: sigma for metric of distance.\n",
    "        sigma_I: sigma for metric of intensity.\n",
    "        r: radius of circle that only the neighbor in circle is considered.\n",
    "    Returns:\n",
    "        brightness_weight: ndarray [B, W*H, W*H]\n",
    "    \"\"\"\n",
    "    \n",
    "    B,N,M,C = img.shape\n",
    "    \n",
    "    image = img.cpu().numpy()\n",
    "    weight_size = N*M\n",
    "    batch_size = image.shape[0]\n",
    "    bright_weights = np.zeros((batch_size,weight_size,weight_size))\n",
    "    reduce_image = np.mean(image,axis = 3)\n",
    "    \n",
    "#     print(bright_weights.shape, reduce_image.shape)\n",
    "    \n",
    "    for batch in range(batch_size):\n",
    "        # Reduce channel\n",
    "        flat_image = np.ravel(reduce_image[batch])\n",
    "        \n",
    "        # Gaussian neighbor\n",
    "        Fj, Fi = np.meshgrid(flat_image, flat_image)\n",
    "        X, Y = list(zip(*np.ndindex(image.shape[1:3])))\n",
    "        Xj, Xi = np.meshgrid(X,X)\n",
    "        Yj, Yi = np.meshgrid(Y,Y)\n",
    "        X_metric = np.sqrt((Xi - Xj)**2 + (Yi - Yj)**2)\n",
    "        F_metric = np.abs(Fi - Fj)\n",
    "        \n",
    "        # Brightness weight\n",
    "        bright_weight = np.exp(-(X_metric**2 / sigma_X**2) -(F_metric**2 / sigma_I**2))\n",
    "        bright_weight[X_metric >= r] = 0\n",
    "        bright_weights[batch] = bright_weight\n",
    "        \n",
    "    return bright_weights\n",
    "  \n",
    "def soft_ncut(img, cla):\n",
    "\n",
    "    '''\n",
    "    img : B x C x N x M\n",
    "    cla : B x K x N x M\n",
    "    '''\n",
    "\n",
    "\n",
    "    B, C, N, M = img.shape\n",
    "    K = cla.shape[1]\n",
    "    weight_size = N*M\n",
    "\n",
    "    cla = cla.view(B,K,N*M)\n",
    "    img = torch.stack([img.transpose(0,3).transpose(1,2)[:,:,:,0]])\n",
    "#     print(img.shape)\n",
    "    image_weights = dense_brightness_weight(img)\n",
    "    sum_image_weights = np.sum(image_weights,axis=-1)\n",
    "    dis_assoc = torch.zeros((B,K))\n",
    "    assoc = torch.zeros((B,K))\n",
    "    for batch in range(B):\n",
    "        # [K, H*W] @ [H*W, H*W] = [K, H*W]\n",
    "        W_Ak = torch.mm(cla[batch], torch.tensor(image_weights[batch]).float().cuda()) # [K, H*W]\n",
    "        dissoc = torch.mm(W_Ak, cla[batch].transpose(0,-1)) # [K, K]\n",
    "        dis_assoc[batch] = torch.diag(dissoc) # [K]\n",
    "        vec = torch.tensor(sum_image_weights[batch]).float().cuda()\n",
    "        assoc[batch] = torch.matmul(cla[batch], vec) # [K]\n",
    "    eps = 0.0000001\n",
    "    soft_ncut = K - torch.sum((dis_assoc + eps) / (assoc + eps), 1)\n",
    "    return soft_ncut"
   ]
  },
  {
   "cell_type": "code",
   "execution_count": 3,
   "metadata": {
    "colab": {},
    "colab_type": "code",
    "id": "I1AGYXLz8Fkx"
   },
   "outputs": [],
   "source": [
    "# train\n",
    "model = MyNet(3)\n",
    "if use_cuda:\n",
    "    model.cuda()\n",
    "    for i in range(nu-1):\n",
    "        model.conv2[i].cuda()\n",
    "        model.bn2[i].cuda()\n",
    "model.train()\n",
    "loss_fn = torch.nn.CrossEntropyLoss()\n",
    "loss_mse = torch.nn.MSELoss()\n",
    "\n",
    "optimizer = optim.Adam(model.parameters(), lr=0.1)\n",
    "label_colours = np.random.randint(255,size=(100,3))\n",
    "min_labels = 8\n",
    "model.load_state_dict(torch.load('model.h5', map_location = 'cpu'))"
   ]
  },
  {
   "cell_type": "code",
   "execution_count": null,
   "metadata": {
    "colab": {},
    "colab_type": "code",
    "id": "qc1caYzN8RyS"
   },
   "outputs": [],
   "source": [
    "def train(frame1 , frame2):\n",
    "  prvs = cv2.cvtColor(frame1,cv2.COLOR_BGR2GRAY)\n",
    "  next = cv2.cvtColor(frame2,cv2.COLOR_BGR2GRAY)\n",
    "  hsv = np.zeros_like(frame1)\n",
    "  hsv[...,1] = 255\n",
    "\n",
    "  # while(1):\n",
    "  next = cv2.cvtColor(frame2,cv2.COLOR_BGR2GRAY)\n",
    "  flow = cv2.calcOpticalFlowFarneback(prvs, next, None,0.5, 3, 15, 3, 5, 1.2, 0)\n",
    "  mag, ang = cv2.cartToPolar(flow[...,0], flow[...,1])\n",
    "  hsv[...,0] = ang*180/np.pi/2\n",
    "  hsv[...,2] = cv2.normalize(mag,None,0,255,cv2.NORM_MINMAX)\n",
    "  rgb = cv2.cvtColor(hsv,cv2.COLOR_HSV2RGB)\n",
    "  \n",
    "  datav = torch.from_numpy( np.array([frame2.transpose( (2, 0, 1) ).astype('float32')/255.]) )\n",
    "  datav = Variable(datav)\n",
    "  if (use_cuda):\n",
    "    datav = datav.cuda()\n",
    "  labels1 = segmentation.slic(rgb, compactness=30, n_segments=1000)\n",
    "  out1 = color.label2rgb(labels1, rgb, kind='avg')\n",
    "  g = graph.rag_mean_color(rgb, labels1, mode='similarity')\n",
    "  labels2 = graph.cut_normalized(labels1, g,thresh=0.5)\n",
    "  out2 = color.label2rgb(labels2, frame2, kind='avg')\n",
    "\n",
    "  edges = cv2.Canny(frame2,50,300)\n",
    "\n",
    "  labels1d = segmentation.slic(frame2, compactness=10, n_segments=450)\n",
    "  gd = graph.rag_mean_color(frame2, labels1d, mode='similarity')\n",
    "  labels2d = graph.cut_normalized(labels1d, gd, thresh=0.001)\n",
    "  \n",
    "  \n",
    "  mask=((out2[:,:,0]!=0)*1)\n",
    "  \n",
    "  label_train = labels2*mask + (labels2d+256)*(1-mask)\n",
    "\n",
    "  # Finding the unique color segment labels ....\n",
    "  labels = label_train.reshape(frame2.shape[0]*frame2.shape[1])\n",
    "  u_labels = np.unique(labels)\n",
    "  l_inds = []    \n",
    "\n",
    "\n",
    "  ## finding he indices where that label exist....\n",
    "  for i in range(len(u_labels)):\n",
    "      l_inds.append(np.where(labels == u_labels[i])[0])\n",
    "\n",
    "  \n",
    "  for batch_idx in range(max_iter): #1000 is max iters\n",
    "      # forwarding\n",
    "      optimizer.zero_grad()\n",
    "      output, edge_preds  = model(datav)\n",
    "          \n",
    "#       print(output.shape)\n",
    "      \n",
    "      ignore, target = torch.max(output[0].permute(1,2,0).contiguous().view(-1, 500), 1)\n",
    "      im_target = target.data.cpu().numpy()\n",
    "      nLabels = len(np.unique(im_target))\n",
    "\n",
    "      # Superpixel Refinement \n",
    "      for i in range(len(l_inds)):\n",
    "          labels_per_sp = im_target[l_inds[i]]\n",
    "\n",
    "          # number of unique colors obtained in single super pixel .....along all channels...\n",
    "          u_labels_per_sp = np.unique(labels_per_sp) \n",
    "          # hist : histogram of colors labels ...\n",
    "          hist = np.zeros(len(u_labels_per_sp))\n",
    "          for j in range(len(hist)):\n",
    "              hist[j] = len(np.where(labels_per_sp == u_labels_per_sp[j])[0])\n",
    "              \n",
    "          # assinging the highest histogram value to whole super pixel\n",
    "          im_target[l_inds[i]] = u_labels_per_sp[np.argmax(hist)]\n",
    "      \n",
    "      \n",
    "      \n",
    "      \n",
    "      target = torch.from_numpy(im_target)\n",
    "      if use_cuda:\n",
    "          target = target.cuda()\n",
    "      target = Variable(target)\n",
    "          \n",
    "      \n",
    "#       masked_out = (output*mask)\n",
    "#       masked_tar = (target.float()*mask).view(1,edges.shape[0],edges.shape[1])\n",
    "   \n",
    "  \n",
    "      print(output.shape)\n",
    "      loss1 = loss_fn(output, target.to(dtype = torch.int64).view(1, frame2.shape[0], frame2.shape[1]))\n",
    "      loss2 = soft_ncut(datav, output).cuda()*0.000001\n",
    "      loss = loss1 + loss2\n",
    "      \n",
    "      n_labels = np.unique(im_target)[0]\n",
    "      if(n_labels < min_labels and loss1 < 3):\n",
    "        print(\"Conditional Breaking\")\n",
    "        return\n",
    "      \n",
    "      loss.backward()\n",
    "      optimizer.step()\n",
    "      \n",
    "      print (batch_idx, '/',max_iter, ':', loss1.data, loss2.data)"
   ]
  },
  {
   "cell_type": "code",
   "execution_count": 191,
   "metadata": {
    "colab": {
     "base_uri": "https://localhost:8080/",
     "height": 971
    },
    "colab_type": "code",
    "id": "k0xuBeiW9hay",
    "outputId": "aa1aaa9a-f58b-42b5-ea75-a2bcde3f276a"
   },
   "outputs": [
    {
     "name": "stdout",
     "output_type": "stream",
     "text": [
      "torch.Size([1, 500, 64, 64])\n",
      "0 / 10 : tensor(5.4533, device='cuda:0') tensor([0.0009], device='cuda:0')\n",
      "torch.Size([1, 500, 64, 64])\n",
      "1 / 10 : tensor(5.1579, device='cuda:0') tensor([0.0007], device='cuda:0')\n",
      "torch.Size([1, 500, 64, 64])\n",
      "2 / 10 : tensor(4.6083, device='cuda:0') tensor([0.0007], device='cuda:0')\n",
      "torch.Size([1, 500, 64, 64])\n",
      "3 / 10 : tensor(4.2030, device='cuda:0') tensor([0.0007], device='cuda:0')\n",
      "torch.Size([1, 500, 64, 64])\n",
      "4 / 10 : tensor(3.8119, device='cuda:0') tensor([0.0004], device='cuda:0')\n",
      "torch.Size([1, 500, 64, 64])\n"
     ]
    },
    {
     "ename": "KeyboardInterrupt",
     "evalue": "ignored",
     "output_type": "error",
     "traceback": [
      "\u001b[0;31m---------------------------------------------------------------------------\u001b[0m",
      "\u001b[0;31mKeyboardInterrupt\u001b[0m                         Traceback (most recent call last)",
      "\u001b[0;32m<ipython-input-191-4eb4be42ff04>\u001b[0m in \u001b[0;36m<module>\u001b[0;34m()\u001b[0m\n\u001b[1;32m     20\u001b[0m \u001b[0;34m\u001b[0m\u001b[0m\n\u001b[1;32m     21\u001b[0m         \u001b[0mtorch\u001b[0m\u001b[0;34m.\u001b[0m\u001b[0mcuda\u001b[0m\u001b[0;34m.\u001b[0m\u001b[0mempty_cache\u001b[0m\u001b[0;34m(\u001b[0m\u001b[0;34m)\u001b[0m\u001b[0;34m\u001b[0m\u001b[0;34m\u001b[0m\u001b[0m\n\u001b[0;32m---> 22\u001b[0;31m         \u001b[0mtrain\u001b[0m\u001b[0;34m(\u001b[0m\u001b[0mframe1\u001b[0m\u001b[0;34m,\u001b[0m \u001b[0mframe2\u001b[0m\u001b[0;34m)\u001b[0m\u001b[0;34m\u001b[0m\u001b[0;34m\u001b[0m\u001b[0m\n\u001b[0m\u001b[1;32m     23\u001b[0m \u001b[0;34m\u001b[0m\u001b[0m\n\u001b[1;32m     24\u001b[0m       \u001b[0mprint\u001b[0m\u001b[0;34m(\u001b[0m\u001b[0;34m\"Epoch:\"\u001b[0m\u001b[0;34m,\u001b[0m\u001b[0mepochs\u001b[0m\u001b[0;34m,\u001b[0m \u001b[0mnum\u001b[0m\u001b[0;34m)\u001b[0m\u001b[0;34m\u001b[0m\u001b[0;34m\u001b[0m\u001b[0m\n",
      "\u001b[0;32m<ipython-input-190-5fbbc320a7a1>\u001b[0m in \u001b[0;36mtrain\u001b[0;34m(frame1, frame2)\u001b[0m\n\u001b[1;32m     85\u001b[0m       \u001b[0mprint\u001b[0m\u001b[0;34m(\u001b[0m\u001b[0moutput\u001b[0m\u001b[0;34m.\u001b[0m\u001b[0mshape\u001b[0m\u001b[0;34m)\u001b[0m\u001b[0;34m\u001b[0m\u001b[0;34m\u001b[0m\u001b[0m\n\u001b[1;32m     86\u001b[0m       \u001b[0mloss1\u001b[0m \u001b[0;34m=\u001b[0m \u001b[0mloss_fn\u001b[0m\u001b[0;34m(\u001b[0m\u001b[0moutput\u001b[0m\u001b[0;34m,\u001b[0m \u001b[0mtarget\u001b[0m\u001b[0;34m.\u001b[0m\u001b[0mto\u001b[0m\u001b[0;34m(\u001b[0m\u001b[0mdtype\u001b[0m \u001b[0;34m=\u001b[0m \u001b[0mtorch\u001b[0m\u001b[0;34m.\u001b[0m\u001b[0mint64\u001b[0m\u001b[0;34m)\u001b[0m\u001b[0;34m.\u001b[0m\u001b[0mview\u001b[0m\u001b[0;34m(\u001b[0m\u001b[0;36m1\u001b[0m\u001b[0;34m,\u001b[0m \u001b[0mframe2\u001b[0m\u001b[0;34m.\u001b[0m\u001b[0mshape\u001b[0m\u001b[0;34m[\u001b[0m\u001b[0;36m0\u001b[0m\u001b[0;34m]\u001b[0m\u001b[0;34m,\u001b[0m \u001b[0mframe2\u001b[0m\u001b[0;34m.\u001b[0m\u001b[0mshape\u001b[0m\u001b[0;34m[\u001b[0m\u001b[0;36m1\u001b[0m\u001b[0;34m]\u001b[0m\u001b[0;34m)\u001b[0m\u001b[0;34m)\u001b[0m\u001b[0;34m\u001b[0m\u001b[0;34m\u001b[0m\u001b[0m\n\u001b[0;32m---> 87\u001b[0;31m       \u001b[0mloss2\u001b[0m \u001b[0;34m=\u001b[0m \u001b[0msoft_ncut\u001b[0m\u001b[0;34m(\u001b[0m\u001b[0mdatav\u001b[0m\u001b[0;34m,\u001b[0m \u001b[0moutput\u001b[0m\u001b[0;34m)\u001b[0m\u001b[0;34m.\u001b[0m\u001b[0mcuda\u001b[0m\u001b[0;34m(\u001b[0m\u001b[0;34m)\u001b[0m\u001b[0;34m*\u001b[0m\u001b[0;36m0.000001\u001b[0m\u001b[0;34m\u001b[0m\u001b[0;34m\u001b[0m\u001b[0m\n\u001b[0m\u001b[1;32m     88\u001b[0m       \u001b[0mloss\u001b[0m \u001b[0;34m=\u001b[0m \u001b[0mloss1\u001b[0m \u001b[0;34m+\u001b[0m \u001b[0mloss2\u001b[0m\u001b[0;34m\u001b[0m\u001b[0;34m\u001b[0m\u001b[0m\n\u001b[1;32m     89\u001b[0m \u001b[0;34m\u001b[0m\u001b[0m\n",
      "\u001b[0;32m<ipython-input-147-5e27739e9349>\u001b[0m in \u001b[0;36msoft_ncut\u001b[0;34m(img, cla)\u001b[0m\n\u001b[1;32m     56\u001b[0m     \u001b[0mimg\u001b[0m \u001b[0;34m=\u001b[0m \u001b[0mtorch\u001b[0m\u001b[0;34m.\u001b[0m\u001b[0mstack\u001b[0m\u001b[0;34m(\u001b[0m\u001b[0;34m[\u001b[0m\u001b[0mimg\u001b[0m\u001b[0;34m.\u001b[0m\u001b[0mtranspose\u001b[0m\u001b[0;34m(\u001b[0m\u001b[0;36m0\u001b[0m\u001b[0;34m,\u001b[0m\u001b[0;36m3\u001b[0m\u001b[0;34m)\u001b[0m\u001b[0;34m.\u001b[0m\u001b[0mtranspose\u001b[0m\u001b[0;34m(\u001b[0m\u001b[0;36m1\u001b[0m\u001b[0;34m,\u001b[0m\u001b[0;36m2\u001b[0m\u001b[0;34m)\u001b[0m\u001b[0;34m[\u001b[0m\u001b[0;34m:\u001b[0m\u001b[0;34m,\u001b[0m\u001b[0;34m:\u001b[0m\u001b[0;34m,\u001b[0m\u001b[0;34m:\u001b[0m\u001b[0;34m,\u001b[0m\u001b[0;36m0\u001b[0m\u001b[0;34m]\u001b[0m\u001b[0;34m]\u001b[0m\u001b[0;34m)\u001b[0m\u001b[0;34m\u001b[0m\u001b[0;34m\u001b[0m\u001b[0m\n\u001b[1;32m     57\u001b[0m \u001b[0;31m#     print(img.shape)\u001b[0m\u001b[0;34m\u001b[0m\u001b[0;34m\u001b[0m\u001b[0;34m\u001b[0m\u001b[0m\n\u001b[0;32m---> 58\u001b[0;31m     \u001b[0mimage_weights\u001b[0m \u001b[0;34m=\u001b[0m \u001b[0mdense_brightness_weight\u001b[0m\u001b[0;34m(\u001b[0m\u001b[0mimg\u001b[0m\u001b[0;34m)\u001b[0m\u001b[0;34m\u001b[0m\u001b[0;34m\u001b[0m\u001b[0m\n\u001b[0m\u001b[1;32m     59\u001b[0m     \u001b[0msum_image_weights\u001b[0m \u001b[0;34m=\u001b[0m \u001b[0mnp\u001b[0m\u001b[0;34m.\u001b[0m\u001b[0msum\u001b[0m\u001b[0;34m(\u001b[0m\u001b[0mimage_weights\u001b[0m\u001b[0;34m,\u001b[0m\u001b[0maxis\u001b[0m\u001b[0;34m=\u001b[0m\u001b[0;34m-\u001b[0m\u001b[0;36m1\u001b[0m\u001b[0;34m)\u001b[0m\u001b[0;34m\u001b[0m\u001b[0;34m\u001b[0m\u001b[0m\n\u001b[1;32m     60\u001b[0m     \u001b[0mdis_assoc\u001b[0m \u001b[0;34m=\u001b[0m \u001b[0mtorch\u001b[0m\u001b[0;34m.\u001b[0m\u001b[0mzeros\u001b[0m\u001b[0;34m(\u001b[0m\u001b[0;34m(\u001b[0m\u001b[0mB\u001b[0m\u001b[0;34m,\u001b[0m\u001b[0mK\u001b[0m\u001b[0;34m)\u001b[0m\u001b[0;34m)\u001b[0m\u001b[0;34m\u001b[0m\u001b[0;34m\u001b[0m\u001b[0m\n",
      "\u001b[0;32m<ipython-input-147-5e27739e9349>\u001b[0m in \u001b[0;36mdense_brightness_weight\u001b[0;34m(img, sigma_X, sigma_I, r)\u001b[0m\n\u001b[1;32m     29\u001b[0m         \u001b[0mFj\u001b[0m\u001b[0;34m,\u001b[0m \u001b[0mFi\u001b[0m \u001b[0;34m=\u001b[0m \u001b[0mnp\u001b[0m\u001b[0;34m.\u001b[0m\u001b[0mmeshgrid\u001b[0m\u001b[0;34m(\u001b[0m\u001b[0mflat_image\u001b[0m\u001b[0;34m,\u001b[0m \u001b[0mflat_image\u001b[0m\u001b[0;34m)\u001b[0m\u001b[0;34m\u001b[0m\u001b[0;34m\u001b[0m\u001b[0m\n\u001b[1;32m     30\u001b[0m         \u001b[0mX\u001b[0m\u001b[0;34m,\u001b[0m \u001b[0mY\u001b[0m \u001b[0;34m=\u001b[0m \u001b[0mlist\u001b[0m\u001b[0;34m(\u001b[0m\u001b[0mzip\u001b[0m\u001b[0;34m(\u001b[0m\u001b[0;34m*\u001b[0m\u001b[0mnp\u001b[0m\u001b[0;34m.\u001b[0m\u001b[0mndindex\u001b[0m\u001b[0;34m(\u001b[0m\u001b[0mimage\u001b[0m\u001b[0;34m.\u001b[0m\u001b[0mshape\u001b[0m\u001b[0;34m[\u001b[0m\u001b[0;36m1\u001b[0m\u001b[0;34m:\u001b[0m\u001b[0;36m3\u001b[0m\u001b[0;34m]\u001b[0m\u001b[0;34m)\u001b[0m\u001b[0;34m)\u001b[0m\u001b[0;34m)\u001b[0m\u001b[0;34m\u001b[0m\u001b[0;34m\u001b[0m\u001b[0m\n\u001b[0;32m---> 31\u001b[0;31m         \u001b[0mXj\u001b[0m\u001b[0;34m,\u001b[0m \u001b[0mXi\u001b[0m \u001b[0;34m=\u001b[0m \u001b[0mnp\u001b[0m\u001b[0;34m.\u001b[0m\u001b[0mmeshgrid\u001b[0m\u001b[0;34m(\u001b[0m\u001b[0mX\u001b[0m\u001b[0;34m,\u001b[0m\u001b[0mX\u001b[0m\u001b[0;34m)\u001b[0m\u001b[0;34m\u001b[0m\u001b[0;34m\u001b[0m\u001b[0m\n\u001b[0m\u001b[1;32m     32\u001b[0m         \u001b[0mYj\u001b[0m\u001b[0;34m,\u001b[0m \u001b[0mYi\u001b[0m \u001b[0;34m=\u001b[0m \u001b[0mnp\u001b[0m\u001b[0;34m.\u001b[0m\u001b[0mmeshgrid\u001b[0m\u001b[0;34m(\u001b[0m\u001b[0mY\u001b[0m\u001b[0;34m,\u001b[0m\u001b[0mY\u001b[0m\u001b[0;34m)\u001b[0m\u001b[0;34m\u001b[0m\u001b[0;34m\u001b[0m\u001b[0m\n\u001b[1;32m     33\u001b[0m         \u001b[0mX_metric\u001b[0m \u001b[0;34m=\u001b[0m \u001b[0mnp\u001b[0m\u001b[0;34m.\u001b[0m\u001b[0msqrt\u001b[0m\u001b[0;34m(\u001b[0m\u001b[0;34m(\u001b[0m\u001b[0mXi\u001b[0m \u001b[0;34m-\u001b[0m \u001b[0mXj\u001b[0m\u001b[0;34m)\u001b[0m\u001b[0;34m**\u001b[0m\u001b[0;36m2\u001b[0m \u001b[0;34m+\u001b[0m \u001b[0;34m(\u001b[0m\u001b[0mYi\u001b[0m \u001b[0;34m-\u001b[0m \u001b[0mYj\u001b[0m\u001b[0;34m)\u001b[0m\u001b[0;34m**\u001b[0m\u001b[0;36m2\u001b[0m\u001b[0;34m)\u001b[0m\u001b[0;34m\u001b[0m\u001b[0;34m\u001b[0m\u001b[0m\n",
      "\u001b[0;32m/usr/local/lib/python3.6/dist-packages/numpy/lib/function_base.py\u001b[0m in \u001b[0;36mmeshgrid\u001b[0;34m(*xi, **kwargs)\u001b[0m\n\u001b[1;32m   4209\u001b[0m \u001b[0;34m\u001b[0m\u001b[0m\n\u001b[1;32m   4210\u001b[0m     \u001b[0;32mif\u001b[0m \u001b[0mcopy_\u001b[0m\u001b[0;34m:\u001b[0m\u001b[0;34m\u001b[0m\u001b[0;34m\u001b[0m\u001b[0m\n\u001b[0;32m-> 4211\u001b[0;31m         \u001b[0moutput\u001b[0m \u001b[0;34m=\u001b[0m \u001b[0;34m[\u001b[0m\u001b[0mx\u001b[0m\u001b[0;34m.\u001b[0m\u001b[0mcopy\u001b[0m\u001b[0;34m(\u001b[0m\u001b[0;34m)\u001b[0m \u001b[0;32mfor\u001b[0m \u001b[0mx\u001b[0m \u001b[0;32min\u001b[0m \u001b[0moutput\u001b[0m\u001b[0;34m]\u001b[0m\u001b[0;34m\u001b[0m\u001b[0;34m\u001b[0m\u001b[0m\n\u001b[0m\u001b[1;32m   4212\u001b[0m \u001b[0;34m\u001b[0m\u001b[0m\n\u001b[1;32m   4213\u001b[0m     \u001b[0;32mreturn\u001b[0m \u001b[0moutput\u001b[0m\u001b[0;34m\u001b[0m\u001b[0;34m\u001b[0m\u001b[0m\n",
      "\u001b[0;32m/usr/local/lib/python3.6/dist-packages/numpy/lib/function_base.py\u001b[0m in \u001b[0;36m<listcomp>\u001b[0;34m(.0)\u001b[0m\n\u001b[1;32m   4209\u001b[0m \u001b[0;34m\u001b[0m\u001b[0m\n\u001b[1;32m   4210\u001b[0m     \u001b[0;32mif\u001b[0m \u001b[0mcopy_\u001b[0m\u001b[0;34m:\u001b[0m\u001b[0;34m\u001b[0m\u001b[0;34m\u001b[0m\u001b[0m\n\u001b[0;32m-> 4211\u001b[0;31m         \u001b[0moutput\u001b[0m \u001b[0;34m=\u001b[0m \u001b[0;34m[\u001b[0m\u001b[0mx\u001b[0m\u001b[0;34m.\u001b[0m\u001b[0mcopy\u001b[0m\u001b[0;34m(\u001b[0m\u001b[0;34m)\u001b[0m \u001b[0;32mfor\u001b[0m \u001b[0mx\u001b[0m \u001b[0;32min\u001b[0m \u001b[0moutput\u001b[0m\u001b[0;34m]\u001b[0m\u001b[0;34m\u001b[0m\u001b[0;34m\u001b[0m\u001b[0m\n\u001b[0m\u001b[1;32m   4212\u001b[0m \u001b[0;34m\u001b[0m\u001b[0m\n\u001b[1;32m   4213\u001b[0m     \u001b[0;32mreturn\u001b[0m \u001b[0moutput\u001b[0m\u001b[0;34m\u001b[0m\u001b[0;34m\u001b[0m\u001b[0m\n",
      "\u001b[0;31mKeyboardInterrupt\u001b[0m: "
     ]
    }
   ],
   "source": [
    "max_iter = 10\n",
    "for epochs in range(10):\n",
    "  for num in [2,3,4,5,1]:\n",
    "    path1 = './Dataset/camera'+str(num)+'/JPEGImages'\n",
    "    folder_path = path1\n",
    "    rand = np.random.randint(300)\n",
    "    file_names = sorted(os.listdir(folder_path))[rand:rand+10]\n",
    "    file_index = 0\n",
    "    num_images = len(file_names)\n",
    "    batch_size = 1\n",
    "    \n",
    "    for batch_number in range(0,num_images // batch_size - 1):\n",
    "      batch = []\n",
    "      for i in range(0,batch_size):\n",
    "        filename = os.path.join(folder_path, file_names[file_index])\n",
    "        filename2 = os.path.join(folder_path, file_names[file_index+1])\n",
    "\n",
    "        frame1 = cv2.resize(cv2.imread(filename), (64,64))\n",
    "        frame2 = cv2.resize(cv2.imread(filename2), (64,64))\n",
    "        \n",
    "        torch.cuda.empty_cache()\n",
    "        train(frame1, frame2)\n",
    "      \n",
    "      print(\"Epoch:\",epochs, num)\n",
    "      torch.cuda.empty_cache()\n",
    "      if(batch_number%5 == 0):\n",
    "        clr(wait = True)"
   ]
  },
  {
   "cell_type": "code",
   "execution_count": 27,
   "metadata": {
    "colab": {
     "base_uri": "https://localhost:8080/",
     "height": 286
    },
    "colab_type": "code",
    "id": "82sEXPhh-HNK",
    "outputId": "fc41b7d6-8a27-480e-c438-0ff9e485baf7"
   },
   "outputs": [
    {
     "data": {
      "image/png": "[encoded data removed]",
      "text/plain": [
       "<Figure size 432x288 with 1 Axes>"
      ]
     },
     "metadata": {
      "needs_background": "light"
     },
     "output_type": "display_data"
    }
   ],
   "source": [
    "img = cv2.resize(cv2.imread('../../Dataset/camera4/JPEGImages/00001.jpg'), (224,224))\n",
    "# img = cv2.resize(cv2.imread('../../sample2.jpg'), (224,224))\n",
    "datav = torch.from_numpy( np.array([img.transpose( (2, 0, 1) ).astype('float32')/255.]) )\n",
    "datav = Variable(datav)\n",
    "if(use_cuda):\n",
    "    datav = datav.cuda()\n",
    "output = model(datav)[0][0]\n",
    "_, labels_pred = torch.max(output,0)\n",
    "im_target_rgb = color.label2rgb(labels_pred.cpu().numpy(), img, kind = 'rgb')\n",
    "plt.imshow(im_target_rgb*2)\n",
    "plt.savefig('ONWS02.png')"
   ]
  },
  {
   "cell_type": "code",
   "execution_count": 28,
   "metadata": {
    "colab": {
     "base_uri": "https://localhost:8080/",
     "height": 286
    },
    "colab_type": "code",
    "id": "XAn-DGCSFzCr",
    "outputId": "57f422b4-dc64-4d68-a019-31a2a000e908"
   },
   "outputs": [
    {
     "data": {
      "image/png": "[encoded data removed]",
      "text/plain": [
       "<Figure size 432x288 with 1 Axes>"
      ]
     },
     "metadata": {
      "needs_background": "light"
     },
     "output_type": "display_data"
    }
   ],
   "source": [
    "plt.imshow(labels_pred.cpu().numpy())\n",
    "plt.savefig('ONWS01.png')"
   ]
  },
  {
   "cell_type": "code",
   "execution_count": 35,
   "metadata": {
    "colab": {
     "base_uri": "https://localhost:8080/",
     "height": 33
    },
    "colab_type": "code",
    "id": "mpdVFdJqnPDY",
    "outputId": "044de45e-1d8a-43b7-c19c-df794b6b8037"
   },
   "outputs": [
    {
     "data": {
      "image/png": "[encoded data removed]",
      "text/plain": [
       "<Figure size 432x288 with 1 Axes>"
      ]
     },
     "metadata": {
      "needs_background": "light"
     },
     "output_type": "display_data"
    }
   ],
   "source": [
    "g = graph.rag_mean_color(img, im_target_rgb.reshape((224,224,3)), mode='similarity')\n",
    "labels2 = graph.cut_normalized(im_target_rgb.reshape((224,224,3)), g, thresh=0.5)\n",
    "out2 = color.label2rgb(labels2, img, kind='avg')\n",
    "\n",
    "\n",
    "plt.imshow(out2*4)\n",
    "# plt.savefig(\"ncut.png\")\n",
    "plt.show()"
   ]
  },
  {
   "cell_type": "code",
   "execution_count": 183,
   "metadata": {
    "colab": {
     "base_uri": "https://localhost:8080/",
     "height": 33
    },
    "colab_type": "code",
    "id": "YP0UIg3QnYHu",
    "outputId": "da30da2f-ae58-4d9f-ba65-c961d97707aa"
   },
   "outputs": [
    {
     "data": {
      "text/plain": [
       "torch.Size([500, 256, 256])"
      ]
     },
     "execution_count": 183,
     "metadata": {
      "tags": []
     },
     "output_type": "execute_result"
    }
   ],
   "source": [
    "output.shape"
   ]
  },
  {
   "cell_type": "code",
   "execution_count": null,
   "metadata": {
    "colab": {},
    "colab_type": "code",
    "id": "B-tvaFtBnkXl"
   },
   "outputs": [],
   "source": [
    "torch.save(model.state_dict(), 'model.h5')"
   ]
  },
  {
   "cell_type": "code",
   "execution_count": null,
   "metadata": {
    "colab": {},
    "colab_type": "code",
    "id": "B5idvdhAlUA3"
   },
   "outputs": [],
   "source": [
    "g = graph.rag_mean_color(im_target_rgb, labels_pred.cpu().numpy(), mode='similarity')\n",
    "labels2 = graph.cut_normalized(labels_pred.cpu().numpy(), g, thresh=0.1)\n",
    "out2 = color.label2rgb(labels2, img, kind='avg')"
   ]
  },
  {
   "cell_type": "code",
   "execution_count": 174,
   "metadata": {
    "colab": {
     "base_uri": "https://localhost:8080/",
     "height": 286
    },
    "colab_type": "code",
    "id": "zI2kF2bVrln9",
    "outputId": "7203ae94-0bbd-403e-c433-42e3cf7786c9"
   },
   "outputs": [
    {
     "data": {
      "text/plain": [
       "<matplotlib.image.AxesImage at 0x7f35508f5b00>"
      ]
     },
     "execution_count": 174,
     "metadata": {
      "tags": []
     },
     "output_type": "execute_result"
    },
    {
     "data": {
      "image/png": "[encoded data removed]",
      "text/plain": [
       "<Figure size 432x288 with 1 Axes>"
      ]
     },
     "metadata": {
      "tags": []
     },
     "output_type": "display_data"
    }
   ],
   "source": [
    "plt.imshow(out2)"
   ]
  },
  {
   "cell_type": "code",
   "execution_count": null,
   "metadata": {
    "colab": {},
    "colab_type": "code",
    "id": "ODh0ZTrGsDdH"
   },
   "outputs": [],
   "source": [
    "+"
   ]
  }
 ],
 "metadata": {
  "accelerator": "GPU",
  "colab": {
   "collapsed_sections": [],
   "name": "OptiSeg.ipynb",
   "provenance": [],
   "version": "0.3.2"
  },
  "kernelspec": {
   "display_name": "Python 3",
   "language": "python",
   "name": "python3"
  },
  "language_info": {
   "codemirror_mode": {
    "name": "ipython",
    "version": 3
   },
   "file_extension": ".py",
   "mimetype": "text/x-python",
   "name": "python",
   "nbconvert_exporter": "python",
   "pygments_lexer": "ipython3",
   "version": "3.6.8"
  }
 },
 "nbformat": 4,
 "nbformat_minor": 2
}
